{
  "nbformat": 4,
  "nbformat_minor": 0,
  "metadata": {
    "colab": {
      "provenance": [],
      "include_colab_link": true
    },
    "kernelspec": {
      "name": "python3",
      "display_name": "Python 3"
    },
    "language_info": {
      "name": "python"
    }
  },
  "cells": [
    {
      "cell_type": "markdown",
      "metadata": {
        "id": "view-in-github",
        "colab_type": "text"
      },
      "source": [
        "<a href=\"https://colab.research.google.com/github/LarionovDaniil/vk_handshakes/blob/main/friends_or_not_vk_api.ipynb\" target=\"_parent\"><img src=\"https://colab.research.google.com/assets/colab-badge.svg\" alt=\"Open In Colab\"/></a>"
      ]
    },
    {
      "cell_type": "code",
      "source": [
        "from threading import Thread\n",
        "import requests\n",
        "import time\n",
        "import numpy as np\n",
        "import math"
      ],
      "metadata": {
        "id": "x_dVH23E4v48"
      },
      "execution_count": null,
      "outputs": []
    },
    {
      "cell_type": "code",
      "execution_count": null,
      "metadata": {
        "id": "P_RnXQFp4fl_"
      },
      "outputs": [],
      "source": [
        "version = '5.131'\n",
        "\n",
        "# Для работы программы необходимо сгенерировать 5 ключей доступа пользователя и 5 сервисных ключей доступа.\n",
        "\n",
        "token_user = '---'\n",
        "token_user2 = '---'\n",
        "token_user3 = '---'\n",
        "token_user4 = '---'\n",
        "token_user5 = '---'\n",
        "\n",
        "token_service = '---'\n",
        "token_service2 = '---'\n",
        "token_service3 = '---'\n",
        "token_service4 = '---'\n",
        "token_service5 = '---'"
      ]
    },
    {
      "cell_type": "code",
      "source": [
        "connections = []\n",
        "rez = [[],[],[],[],[]]\n",
        "num_of_tokens = 5\n",
        "token_users = [token_user, token_user2, token_user3, token_user4, token_user5]\n",
        "tokens_service = [token_service, token_service2, token_service3, token_service4, token_service5]\n",
        "connections_limit = 11\n",
        "delay = 0.1 # задержка зависит от скорости интернета(больше скорость -> больше задержка нужна)"
      ],
      "metadata": {
        "id": "iCc-5D9iGPvn"
      },
      "execution_count": null,
      "outputs": []
    },
    {
      "cell_type": "code",
      "source": [
        "def id_from_domain(domain:str) -> int:\n",
        "    '''\n",
        "    Returns id from url/domain or code of error.\n",
        "\n",
        "            Parameters:\n",
        "                    domain (string): can be url or domain\n",
        "\n",
        "            Returns:\n",
        "                    user id if id exists and page is open\n",
        "                    -1 if id doesn't exist\n",
        "                    -2 if page deleted\n",
        "                    -3 if page is closed\n",
        "    '''\n",
        "\n",
        "    url = 'https://api.vk.com/method/users.get'\n",
        "\n",
        "    response = requests.get(url,\n",
        "                            params={\n",
        "                                'access_token': token_service,\n",
        "                                'v': version,\n",
        "                                'user_id': domain\n",
        "                            }\n",
        "                            )\n",
        "    page_info = response.json()['response']\n",
        "    if page_info == []:\n",
        "        return -1\n",
        "    elif 'deactivated' in page_info[0]:\n",
        "        return -2\n",
        "    elif page_info[0]['is_closed'] == True:\n",
        "        return -3\n",
        "    return page_info[0]['id']"
      ],
      "metadata": {
        "id": "RG8LEHC3DXCp"
      },
      "execution_count": null,
      "outputs": []
    },
    {
      "cell_type": "code",
      "source": [
        "def returns_meaning(num:int, id:str) -> int:\n",
        "    '''Returns meaning of code errors'''\n",
        "    errors = {\n",
        "        -1: 'Не удалось определить ID',\n",
        "        -2: 'Cтраница удалена',\n",
        "        -3: 'Cтраница закрыта'\n",
        "    }\n",
        "    print(errors[num], id)\n",
        "    return 0"
      ],
      "metadata": {
        "id": "LWUQulVlSoVr"
      },
      "execution_count": null,
      "outputs": []
    },
    {
      "cell_type": "code",
      "source": [
        "def user_url_re(url_input:str) -> int:\n",
        "    '''Get user id.\n",
        "\n",
        "        Call id_from_domain to get user id if user taped smth different.\n",
        "\n",
        "        https://vk.com/id92273240 -> 92273240\n",
        "        https://vk.com/danya.larionov -> 92273240\n",
        "        danya.larionov -> 92273240\n",
        "\n",
        "        Parameters:\n",
        "                    url_input: tapped url\n",
        "\n",
        "        Returns:\n",
        "                    user id\n",
        "    '''\n",
        "\n",
        "    url = url_input\n",
        "\n",
        "    if url.isdigit():\n",
        "        id = id_from_domain(url)\n",
        "    else:\n",
        "        com = url.find(\"com/\")\n",
        "        if com != -1:\n",
        "            id = id_from_domain(url[com + 4:])\n",
        "        else:\n",
        "            id = id_from_domain(url)\n",
        "    return id"
      ],
      "metadata": {
        "id": "0ND-ANzVDRkE"
      },
      "execution_count": null,
      "outputs": []
    },
    {
      "cell_type": "code",
      "source": [
        "def get_users_info(user_id:int, token:str) -> tuple[str, str, str]:\n",
        "    '''Get information about user\n",
        "\n",
        "            Parameters:\n",
        "                    user_id: user id\n",
        "                    token: user or service token\n",
        "            Returns:\n",
        "                    extended user information.\n",
        "    '''\n",
        "\n",
        "    url = 'https://api.vk.com/method/users.get'\n",
        "\n",
        "    response = requests.get(url,\n",
        "                            params={\n",
        "                                'access_token': token,\n",
        "                                'v': version,\n",
        "                                'user_id': user_id,\n",
        "                                'fields':'photo_400_orig,photo_max_orig'\n",
        "                            }\n",
        "                            )\n",
        "\n",
        "    data = response.json()['response'][0]\n",
        "    url = 'https://vk.com/id'+str(data['id'])\n",
        "    photo = data['photo_400_orig'] if 'photo_400_orig' in data else \\\n",
        "                                            data['photo_max_orig']\n",
        "    full_name = ' '.join((data['first_name'], data['last_name']))\n",
        "    time.sleep(delay)\n",
        "    return url, photo, full_name"
      ],
      "metadata": {
        "id": "2abG7MvXfjUB"
      },
      "execution_count": null,
      "outputs": []
    },
    {
      "cell_type": "code",
      "source": [
        "def get_users_friends(user_id:int, privacy:str='open') -> np.ndarray:\n",
        "    '''Returns slist of friends.\n",
        "\n",
        "            Parameters:\n",
        "                    user_id: user id(only number)\n",
        "                    privacy: open, close\n",
        "\n",
        "            Returns:\n",
        "                    list of friends with open pages if privacy == open\n",
        "                                        else list of all friends\n",
        "    '''\n",
        "\n",
        "    url = 'https://api.vk.com/method/friends.get'\n",
        "\n",
        "    response = requests.get(url,\n",
        "                            params={\n",
        "                                'access_token': token_service2,\n",
        "                                'v': version,\n",
        "                                'user_id': user_id,\n",
        "                                'fields':'is_closed'\n",
        "                            }\n",
        "                            )\n",
        "    data = response.json()\n",
        "\n",
        "    friends = data['response']['items']\n",
        "\n",
        "    if len(friends) == 0:\n",
        "        print(f'У {get_users_info(user_id, token_service)[2]} '\n",
        "              f'нет друзей')\n",
        "        return np.array([])\n",
        "\n",
        "    elif len(friends) > 1000:\n",
        "        print(f'https://vk.com/id{user_id} очень '\n",
        "              f'дружелюбный(-ая), '\n",
        "              f'поиск может занять больше времени')\n",
        "\n",
        "    if privacy == 'open':\n",
        "        friends_open = np.array([friend['id'] for friend in friends\n",
        "                        if not friend['is_closed']\n",
        "                        and 'deactivated' not in friend.keys()])\n",
        "        return friends_open\n",
        "    else:\n",
        "        return np.array(friends)"
      ],
      "metadata": {
        "id": "GJH8by4fLQ8g"
      },
      "execution_count": null,
      "outputs": []
    },
    {
      "cell_type": "code",
      "source": [
        "def mutual_friends_one_to_many(user_1:int,\n",
        "                               users_2_friends:np.ndarray,\n",
        "                               token:str) -> np.ndarray:\n",
        "    '''Get mutual friends\n",
        "\n",
        "            Parameters:\n",
        "                    user_1: first user id\n",
        "                    users_2_friends: list of second user's friends\n",
        "                    token: only user token\n",
        "            Returns:\n",
        "                    list of IDs of mutual friends between a pair of users.\n",
        "    '''\n",
        "\n",
        "    url = 'https://api.vk.com/method/friends.getMutual'\n",
        "\n",
        "    response = requests.get(url,\n",
        "                            params={\n",
        "                                'access_token': token,\n",
        "                                'v': version,\n",
        "                                'source_uid': user_1,\n",
        "                                'target_uids': \", \".join(map(str, users_2_friends))\n",
        "                            }\n",
        "                            )\n",
        "    data = response.json()\n",
        "    time.sleep(delay+0.1)\n",
        "    return np.array(data['response'])"
      ],
      "metadata": {
        "id": "pCp-_8rkmioa"
      },
      "execution_count": null,
      "outputs": []
    },
    {
      "cell_type": "code",
      "source": [
        "def output(list_ids:list, token_i:str) -> int:\n",
        "    '''Add connection to list connections\n",
        "\n",
        "            Parameters:\n",
        "                    list_ids: first user id\n",
        "                    token_i: user or service token\n",
        "            Returns:\n",
        "                    0\n",
        "    '''\n",
        "\n",
        "    global connections\n",
        "\n",
        "    info = []\n",
        "    for id in list_ids:\n",
        "        info.append(get_users_info(id, token_i))\n",
        "\n",
        "    # urls = [url[0] for url in info]\n",
        "    # picture = [pic[1] for pic in info]\n",
        "    names = [name[2] for name in info]\n",
        "\n",
        "    res = ' -> '.join(names)\n",
        "    connections.append(res)\n",
        "    return 0"
      ],
      "metadata": {
        "id": "0AKd4d_fd8SM"
      },
      "execution_count": null,
      "outputs": []
    },
    {
      "cell_type": "code",
      "source": [
        "def output_thread(list_ids:list[list], token_i:str) -> int:\n",
        "    '''Add connection to list connections, using for threading\n",
        "\n",
        "            Parameters:\n",
        "                    list_ids: list of lists with id connections\n",
        "                    token_i: user or service token\n",
        "            Returns:\n",
        "                    0\n",
        "    '''\n",
        "\n",
        "    global connections\n",
        "\n",
        "    for ids in list_ids:\n",
        "        info = []\n",
        "        for id in ids:\n",
        "            info.append(get_users_info(id, token_i))\n",
        "            # urls = [url[0] for url in info]\n",
        "            # picture = [pic[1] for pic in info]\n",
        "        names = [name[2] for name in info]\n",
        "\n",
        "        res = ' -> '.join(names)\n",
        "        connections.append(res)\n",
        "\n",
        "    return 0"
      ],
      "metadata": {
        "id": "Q_pPs-DTwJtx"
      },
      "execution_count": null,
      "outputs": []
    },
    {
      "cell_type": "code",
      "source": [
        "def two_handshakes(id_first:int, id_second:int,\n",
        "                   friends_first:np.ndarray,\n",
        "                   friends_second:np.ndarray) -> int:\n",
        "    '''Check if users know each other through one person\n",
        "\n",
        "            Parameters:\n",
        "                    id_first: first user id\n",
        "                    id_second: second user id\n",
        "                    friends_first: array of first user's friends\n",
        "                    friends_second: array of second user's friends\n",
        "            Returns:\n",
        "                    0 if yes else 1\n",
        "    '''\n",
        "    two_hand = friends_first[np.in1d(friends_first, friends_second)]\n",
        "\n",
        "    if len(two_hand) > 0:\n",
        "        for id in two_hand:\n",
        "            output([id_first, id, id_second], token_service4)\n",
        "        return 0\n",
        "    return 1"
      ],
      "metadata": {
        "id": "wBNNVXsmjEWM"
      },
      "execution_count": null,
      "outputs": []
    },
    {
      "cell_type": "code",
      "source": [
        "import warnings\n",
        "warnings.filterwarnings(\"ignore\", category=np.VisibleDeprecationWarning)"
      ],
      "metadata": {
        "id": "dz4N8PLJj059"
      },
      "execution_count": null,
      "outputs": []
    },
    {
      "cell_type": "code",
      "source": [
        "def part_parsing3(id_1, friends_part, id_2,\n",
        "                  user_token, service_token, first_less) -> int:\n",
        "    '''Call output for connection of ids\n",
        "\n",
        "            Parameters:\n",
        "                    id_1: first user id\n",
        "                    friends_part: part for getMutual method\n",
        "                    id_2: second user id\n",
        "                    user_token: user token\n",
        "                    service_token: service token\n",
        "                    first_less: True if first user has\n",
        "                                    less friends else False\n",
        "            Returns:\n",
        "                    0\n",
        "    '''\n",
        "    id_main = id_2 if first_less else id_1\n",
        "\n",
        "    for friends in friends_part:\n",
        "        mutal_result = mutual_friends_one_to_many(id_main, friends, user_token)\n",
        "        common = list(map(lambda x: x['common_count'] != 0, mutal_result))\n",
        "        if len(mutal_result[common]) > 0:\n",
        "            for comm in mutal_result[common]:\n",
        "                for id_comm in comm['common_friends']:\n",
        "                    if len(connections) < connections_limit:\n",
        "                        if first_less:\n",
        "                            output([id_1, comm['id'], id_comm, id_2],\n",
        "                                   service_token)\n",
        "                        else:\n",
        "                            output([id_1, id_comm, comm['id'], id_2],\n",
        "                                   service_token)\n",
        "    return 0"
      ],
      "metadata": {
        "id": "rNdTIDKLGrom"
      },
      "execution_count": null,
      "outputs": []
    },
    {
      "cell_type": "code",
      "source": [
        "def make_splits(friends_for_split:np.ndarray) -> list:\n",
        "    '''getMutal has limit of 100 people that's why I split friends\n",
        "            Parameters:\n",
        "                    friends_for_split:\n",
        "            Returns:\n",
        "                    array of arrays with splitted friends\n",
        "    '''\n",
        "    length_friends = len(friends_for_split)\n",
        "    parts = math.ceil(length_friends/100)\n",
        "    splits = np.array_split(friends_for_split, parts)\n",
        "    less_hundred_splits = np.array_split(friends_for_split, num_of_tokens)\n",
        "    five_splits = np.array_split(splits, num_of_tokens) \\\n",
        "                    if length_friends > 100 else \\\n",
        "                    np.array_split(less_hundred_splits, num_of_tokens)\n",
        "    return five_splits"
      ],
      "metadata": {
        "id": "u9ODh73LxHG8"
      },
      "execution_count": null,
      "outputs": []
    },
    {
      "cell_type": "code",
      "source": [
        "def three_handshakes(id_first, id_second, friends_first, friends_second):\n",
        "    '''Check if users know each other through two persons\n",
        "\n",
        "            Parameters:\n",
        "                    id_first: first user id\n",
        "                    id_second: second user id\n",
        "                    friends_first: array of first user's friends\n",
        "                    friends_second: array of second user's friends\n",
        "            Returns:\n",
        "                    0 if yes else 1\n",
        "    '''\n",
        "    first_less = len(friends_first) < len(friends_second)\n",
        "\n",
        "    friends_to_split = friends_first if first_less else friends_second\n",
        "    five_splits = make_splits(friends_to_split)\n",
        "\n",
        "    thread = {}\n",
        "\n",
        "    for i in range(num_of_tokens):\n",
        "        thread[i] = Thread(target=part_parsing3, args=(id_first,\n",
        "                                                    five_splits[i],\n",
        "                                                    id_second,\n",
        "                                                    token_users[i],\n",
        "                                                    tokens_service[i],\n",
        "                                                    first_less,))\n",
        "        thread[i].start()\n",
        "    for i in range(num_of_tokens):\n",
        "        thread[i].join()\n",
        "\n",
        "    if len(connections) > 0:\n",
        "        return 0\n",
        "    return 1"
      ],
      "metadata": {
        "id": "uvZBEvP2F81c"
      },
      "execution_count": 41,
      "outputs": []
    },
    {
      "cell_type": "code",
      "source": [
        "def part_parsing4(id_1, friends_first, friends_part, id_2, i):\n",
        "    '''Call output_thread for connection of ids\n",
        "\n",
        "            Parameters:\n",
        "                    id_1: first user id\n",
        "                    friends_first: array of first user's friends\n",
        "                    friends_part: part for getMutual method\n",
        "                    id_2: second user id\n",
        "                    token: user token\n",
        "                    i: for rez index\n",
        "            Returns:\n",
        "                    0\n",
        "    '''\n",
        "    global rez\n",
        "\n",
        "    for friend1 in friends_first:\n",
        "        for friends2 in friends_part:\n",
        "            commons = mutual_friends_one_to_many(friend1, friends2, token_users[i])\n",
        "            common = list(map(lambda x: x['common_count'] != 0, commons))\n",
        "            if len(commons[common]) > 0:\n",
        "                for id in commons[common]:\n",
        "                    for friend2 in id['common_friends']:\n",
        "                        if len(connections) < connections_limit:\n",
        "                            rez[i].append([id_1, friend1, friend2,\n",
        "                                       id['id'], id_2])\n",
        "    return 0"
      ],
      "metadata": {
        "id": "IrLYpBip5RSA"
      },
      "execution_count": null,
      "outputs": []
    },
    {
      "cell_type": "code",
      "source": [
        "def four_handshakes(id_first, id_second, friends_first, friends_second):\n",
        "    '''Check if users know each other through three persons\n",
        "\n",
        "            Parameters:\n",
        "                    id_first: first user id\n",
        "                    id_second: second user id\n",
        "                    friends_first: array of first user's friends\n",
        "                    friends_second: array of second user's friends\n",
        "            Returns:\n",
        "                    0 if yes else 1\n",
        "    '''\n",
        "    five_splits =  make_splits(friends_second)\n",
        "    thread = {}\n",
        "\n",
        "    for i in range(num_of_tokens):\n",
        "      thread[i] = Thread(target=part_parsing4, args=(id_first,\n",
        "                                                     friends_first,\n",
        "                                                     five_splits[i],\n",
        "                                                     id_second,\n",
        "                                                     i,))\n",
        "      thread[i].start()\n",
        "    for i in range(num_of_tokens):\n",
        "      thread[i].join()\n",
        "\n",
        "    for i in range(len(rez)):\n",
        "      thread[i] = Thread(target=output_thread, args=(rez[i],\n",
        "                                                     tokens_service[i],))\n",
        "      thread[i].start()\n",
        "    for i in range(len(rez)):\n",
        "      thread[i].join()\n",
        "\n",
        "    if len(connections) > 0:\n",
        "        return 0\n",
        "    return 1"
      ],
      "metadata": {
        "id": "LkSL67ao_RS8"
      },
      "execution_count": null,
      "outputs": []
    },
    {
      "cell_type": "code",
      "source": [
        "def connection(id1, id2):\n",
        "    '''get user's friends if profiles are open, check if users\n",
        "        know each other and call two_handshakes, three_handshakes,\n",
        "                                                    four_handshakes.\n",
        "        print connections or says that there aren't any connections\n",
        "                                                            between users\n",
        "\n",
        "            Parameters:\n",
        "                    id1: first user id\n",
        "                    id2: second user id\n",
        "            Returns:\n",
        "                    0\n",
        "    '''\n",
        "\n",
        "    global connections, rez\n",
        "    connections = []\n",
        "    rez = [[],[],[],[],[]]\n",
        "\n",
        "    friends1 = get_users_friends(id1)\n",
        "    if id2 in friends1:\n",
        "        output([id1, id2], token_user)\n",
        "    else:\n",
        "        friends2 = get_users_friends(id2)\n",
        "        if two_handshakes(id1, id2, friends1, friends2):\n",
        "            if three_handshakes(id1, id2, friends1, friends2):\n",
        "                if four_handshakes(id1, id2, friends1, friends2):\n",
        "                    print('Нет цепочки рукопожатий')\n",
        "\n",
        "    if len(connections) > 0:\n",
        "        print(*connections, sep='\\n')\n",
        "    return 0"
      ],
      "metadata": {
        "id": "v7ew_Z6YkOzr"
      },
      "execution_count": null,
      "outputs": []
    },
    {
      "cell_type": "code",
      "source": [
        "def init(id1:str, id2:str='leonid_agutin') -> int:\n",
        "    '''Main function check ids by calling user_url_re and call connection\n",
        "\n",
        "            Parameters:\n",
        "                    id1: first user id\n",
        "                    id2: second user id\n",
        "            Returns:\n",
        "                    1 if smth wrong with first id\n",
        "                    2 - with second id\n",
        "                    else 0\n",
        "    '''\n",
        "    id1_num = user_url_re(id1)\n",
        "    if id1_num < 0:\n",
        "        returns_meaning(id1_num, id1)\n",
        "        return 1\n",
        "\n",
        "    id2_num = user_url_re(id2)\n",
        "    if id2_num < 0:\n",
        "        returns_meaning(id2_num, id2)\n",
        "        return 2\n",
        "\n",
        "    else:\n",
        "        connection(id1_num, id2_num)\n",
        "    return 0"
      ],
      "metadata": {
        "id": "X7W4E8PgVI9-"
      },
      "execution_count": null,
      "outputs": []
    },
    {
      "cell_type": "code",
      "source": [
        "init('danya.larionov', 'dm') # Время выполнения - 28 секунд."
      ],
      "metadata": {
        "colab": {
          "base_uri": "https://localhost:8080/"
        },
        "id": "TSMDMgPDcNe5",
        "outputId": "62f007b9-8a2f-492e-8bdf-c4cd1f2e873a"
      },
      "execution_count": null,
      "outputs": [
        {
          "output_type": "stream",
          "name": "stdout",
          "text": [
            "Daniil Larionov -> Maria Larionova -> Ildar Belyalov -> Zera Chereshneva -> Dmitry Medvedev\n",
            "Daniil Larionov -> Sergey Yakubeyko -> Irina Makukhina -> Ivan Zasursky -> Dmitry Medvedev\n",
            "Daniil Larionov -> Sergey Yakubeyko -> Viktor Buleyko -> Vladimir Burmatov -> Dmitry Medvedev\n",
            "Daniil Larionov -> Sergey Yakubeyko -> Denis Chernenko -> Vladimir Burmatov -> Dmitry Medvedev\n",
            "Daniil Larionov -> Danya Shaydayuk -> Dmitry Shestakov -> Elena Bocherova -> Dmitry Medvedev\n",
            "Daniil Larionov -> Olya Tsyplakova -> Yury Dedenyov -> Vladimir Burmatov -> Dmitry Medvedev\n",
            "Daniil Larionov -> Seva Sezonov -> Sergey Shishov -> Maria Kozhevnikova -> Dmitry Medvedev\n"
          ]
        },
        {
          "output_type": "execute_result",
          "data": {
            "text/plain": [
              "0"
            ]
          },
          "metadata": {},
          "execution_count": 33
        }
      ]
    },
    {
      "cell_type": "code",
      "source": [
        "init('danya.larionov', '127943481') # Время выполнения - 11 секунд."
      ],
      "metadata": {
        "colab": {
          "base_uri": "https://localhost:8080/"
        },
        "id": "hQh57IU-LVEM",
        "outputId": "9fd6be15-2347-4522-9da2-1b6d0923bd1f"
      },
      "execution_count": 40,
      "outputs": [
        {
          "output_type": "stream",
          "name": "stdout",
          "text": [
            "Daniil Larionov -> Denis Smagin -> Egor Badika -> Katya Agaeva\n",
            "Daniil Larionov -> Danila Strizhkov -> Egor Badika -> Katya Agaeva\n",
            "Daniil Larionov -> Vlad Tsypilev -> Egor Badika -> Katya Agaeva\n",
            "Daniil Larionov -> Alexander Semyonov -> Egor Badika -> Katya Agaeva\n",
            "Daniil Larionov -> Danila Turlyuk -> Egor Badika -> Katya Agaeva\n",
            "Daniil Larionov -> Kirill Shokurov -> Egor Badika -> Katya Agaeva\n",
            "Daniil Larionov -> Oleg Shevkun -> Egor Badika -> Katya Agaeva\n",
            "Daniil Larionov -> Vasily Zotov -> Egor Badika -> Katya Agaeva\n",
            "Daniil Larionov -> Semyon Shevchenko -> Egor Badika -> Katya Agaeva\n",
            "Daniil Larionov -> Vladislav Davydov -> Egor Badika -> Katya Agaeva\n",
            "Daniil Larionov -> Alexander Inichkin -> Egor Badika -> Katya Agaeva\n"
          ]
        },
        {
          "output_type": "execute_result",
          "data": {
            "text/plain": [
              "0"
            ]
          },
          "metadata": {},
          "execution_count": 40
        }
      ]
    }
  ]
}
